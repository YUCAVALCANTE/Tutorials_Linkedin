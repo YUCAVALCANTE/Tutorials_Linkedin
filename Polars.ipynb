{
  "nbformat": 4,
  "nbformat_minor": 0,
  "metadata": {
    "colab": {
      "provenance": [],
      "authorship_tag": "ABX9TyPUwkthx8oH8XIZw8J28N/q",
      "include_colab_link": true
    },
    "kernelspec": {
      "name": "python3",
      "display_name": "Python 3"
    },
    "language_info": {
      "name": "python"
    }
  },
  "cells": [
    {
      "cell_type": "markdown",
      "metadata": {
        "id": "view-in-github",
        "colab_type": "text"
      },
      "source": [
        "<a href=\"https://colab.research.google.com/github/YUCAVALCANTE/Tutorials_Linkedin/blob/main/Polars.ipynb\" target=\"_parent\"><img src=\"https://colab.research.google.com/assets/colab-badge.svg\" alt=\"Open In Colab\"/></a>"
      ]
    },
    {
      "cell_type": "markdown",
      "source": [
        "# Exemplo Fácil: A Beleza da Simplicidade\n",
        "\n",
        "Vamos começar com algo leve e direto. Imagine que você está organizando uma pequena reunião e precisa saber rapidamente quais dos seus convidados são adultos com mais de 29 anos para um brinde especial. Com Polars, essa informação está ao alcance de um comando, sem complicações nem demoras.\n"
      ],
      "metadata": {
        "id": "ba9LpsSeBGIw"
      }
    },
    {
      "cell_type": "code",
      "execution_count": 1,
      "metadata": {
        "colab": {
          "base_uri": "https://localhost:8080/"
        },
        "id": "aCurelKr_8xZ",
        "outputId": "f23db6fc-df99-42b4-8574-fb9c18c75a58"
      },
      "outputs": [
        {
          "output_type": "stream",
          "name": "stdout",
          "text": [
            "shape: (2, 3)\n",
            "┌─────────┬───────┬─────────────┐\n",
            "│ nome    ┆ idade ┆ cidade      │\n",
            "│ ---     ┆ ---   ┆ ---         │\n",
            "│ str     ┆ i64   ┆ str         │\n",
            "╞═════════╪═══════╪═════════════╡\n",
            "│ Bob     ┆ 30    ┆ Los Angeles │\n",
            "│ Charlie ┆ 35    ┆ Chicago     │\n",
            "└─────────┴───────┴─────────────┘\n"
          ]
        }
      ],
      "source": [
        "import polars as pl\n",
        "\n",
        "data = {\n",
        "    \"nome\": [\"Alice\", \"Bob\", \"Charlie\"],\n",
        "    \"idade\": [25, 30, 35],\n",
        "    \"cidade\": [\"New York\", \"Los Angeles\", \"Chicago\"]\n",
        "}\n",
        "\n",
        "df = pl.DataFrame(data)\n",
        "resultado = df.filter(pl.col(\"idade\") > 29)\n",
        "print(resultado)\n"
      ]
    },
    {
      "cell_type": "markdown",
      "source": [
        "## Exemplo Complexo: O Poder do Polars em Grandes Conjuntos de Dados\n",
        "\n",
        "Imagine que você é um analista de dados em uma grande empresa e precisa processar **milhões de registros de transações** para identificar **tendências de consumo**. Seu desafio é:\n",
        "- Filtrar apenas as transações **acima de um determinado valor**.\n",
        "- Agrupar os dados por **categoria** e calcular o **total movimentado**.\n",
        "- Ordenar os resultados para destacar **as categorias com maior volume de transações**.\n",
        "\n",
        "Dado o tamanho dos dados, escolher a ferramenta certa é fundamental. Vamos comparar como **Pandas** e **Polars** lidam com essa tarefa e entender **por que o Polars é mais eficiente** para processar grandes volumes de informações.\n",
        "\n"
      ],
      "metadata": {
        "id": "kCNa5U0cBhfL"
      }
    },
    {
      "cell_type": "code",
      "source": [
        "import pandas as pd\n",
        "import polars as pl\n",
        "import numpy as np\n",
        "import time\n",
        "\n",
        "# Gerando um dataset com 10 milhões de transações\n",
        "N = 10_000_000\n",
        "\n",
        "np.random.seed(42)\n",
        "categorias = [\"Alimentação\", \"Transporte\", \"Saúde\", \"Lazer\", \"Educação\", \"Tecnologia\"]\n",
        "dados = {\n",
        "    \"id\": np.arange(N),\n",
        "    \"categoria\": np.random.choice(categorias, N),\n",
        "    \"valor\": np.random.uniform(5, 1000, N)\n",
        "}\n",
        "\n",
        "# Criando DataFrames em Pandas e Polars\n",
        "df_pandas = pd.DataFrame(dados)\n",
        "df_polars = pl.DataFrame(dados)\n",
        "\n",
        "print(\"Dataset gerado com 10 milhões de registros!\")\n"
      ],
      "metadata": {
        "colab": {
          "base_uri": "https://localhost:8080/"
        },
        "id": "Npi49zg_Bi7_",
        "outputId": "764d7815-1c5a-441e-8c0c-d0c3ad6a8afd"
      },
      "execution_count": 6,
      "outputs": [
        {
          "output_type": "stream",
          "name": "stdout",
          "text": [
            "Dataset gerado com 10 milhões de registros!\n"
          ]
        }
      ]
    },
    {
      "cell_type": "code",
      "source": [
        "# Medindo tempo de execução no Pandas\n",
        "start = time.time()\n",
        "\n",
        "df_pandas_filtrado = df_pandas[df_pandas[\"valor\"] > 500]  # Filtrando valores acima de 500\n",
        "df_pandas_agrupado = df_pandas_filtrado.groupby(\"categoria\")[\"valor\"].sum().reset_index()  # Agrupando por categoria\n",
        "df_pandas_agrupado = df_pandas_agrupado.sort_values(\"valor\", ascending=False)  # Ordenando pelo total movimentado\n",
        "\n",
        "end = time.time()\n",
        "print(f\"Tempo de execução no Pandas: {end - start:.2f} segundos\")\n",
        "print(df_pandas_agrupado)\n"
      ],
      "metadata": {
        "colab": {
          "base_uri": "https://localhost:8080/"
        },
        "id": "sl7HVOXvC7Hc",
        "outputId": "cef4273a-e054-462c-b932-49ee93fbddbd"
      },
      "execution_count": 7,
      "outputs": [
        {
          "output_type": "stream",
          "name": "stdout",
          "text": [
            "Tempo de execução no Pandas: 1.10 segundos\n",
            "     categoria         valor\n",
            "2        Lazer  6.287907e+08\n",
            "4   Tecnologia  6.285292e+08\n",
            "3        Saúde  6.284228e+08\n",
            "5   Transporte  6.283195e+08\n",
            "1     Educação  6.282658e+08\n",
            "0  Alimentação  6.275208e+08\n"
          ]
        }
      ]
    },
    {
      "cell_type": "code",
      "source": [
        "# Medindo tempo de execução no Polars\n",
        "start = time.time()\n",
        "\n",
        "df_polars_resultado = (\n",
        "    df_polars.lazy()  # Ativando Lazy Execution\n",
        "    .filter(pl.col(\"valor\") > 500)  # Filtrando valores acima de 500\n",
        "    .group_by(\"categoria\")  # Agrupando por categoria\n",
        "    .agg(pl.col(\"valor\").sum().alias(\"total_movimentado\"))  # Somando os valores\n",
        "    .sort(\"total_movimentado\", descending=True)  # Ordenando pelo total movimentado\n",
        "    .collect()  # Executando a query\n",
        ")\n",
        "\n",
        "end = time.time()\n",
        "print(f\"Tempo de execução no Polars: {end - start:.2f} segundos\")\n",
        "print(df_polars_resultado)\n"
      ],
      "metadata": {
        "colab": {
          "base_uri": "https://localhost:8080/"
        },
        "id": "N8wmirZ9DFxj",
        "outputId": "5853bd83-79fd-40dc-a3cd-e0770b24cf01"
      },
      "execution_count": 8,
      "outputs": [
        {
          "output_type": "stream",
          "name": "stdout",
          "text": [
            "Tempo de execução no Polars: 0.51 segundos\n",
            "shape: (6, 2)\n",
            "┌─────────────┬───────────────────┐\n",
            "│ categoria   ┆ total_movimentado │\n",
            "│ ---         ┆ ---               │\n",
            "│ str         ┆ f64               │\n",
            "╞═════════════╪═══════════════════╡\n",
            "│ Lazer       ┆ 6.2879e8          │\n",
            "│ Tecnologia  ┆ 6.2853e8          │\n",
            "│ Saúde       ┆ 6.2842e8          │\n",
            "│ Transporte  ┆ 6.2832e8          │\n",
            "│ Educação    ┆ 6.2827e8          │\n",
            "│ Alimentação ┆ 6.2752e8          │\n",
            "└─────────────┴───────────────────┘\n"
          ]
        }
      ]
    }
  ]
}