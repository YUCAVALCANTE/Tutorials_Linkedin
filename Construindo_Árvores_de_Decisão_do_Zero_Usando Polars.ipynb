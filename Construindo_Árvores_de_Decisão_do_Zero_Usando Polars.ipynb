{
  "nbformat": 4,
  "nbformat_minor": 0,
  "metadata": {
    "colab": {
      "provenance": [],
      "authorship_tag": "ABX9TyPP7wqw7kKyyG+oeCrm1qzy",
      "include_colab_link": true
    },
    "kernelspec": {
      "name": "python3",
      "display_name": "Python 3"
    },
    "language_info": {
      "name": "python"
    }
  },
  "cells": [
    {
      "cell_type": "markdown",
      "metadata": {
        "id": "view-in-github",
        "colab_type": "text"
      },
      "source": [
        "<a href=\"https://colab.research.google.com/github/YUCAVALCANTE/Tutorials_Linkedin/blob/main/Construindo_%C3%81rvores_de_Decis%C3%A3o_do_Zero_Usando%C2%A0Polars.ipynb\" target=\"_parent\"><img src=\"https://colab.research.google.com/assets/colab-badge.svg\" alt=\"Open In Colab\"/></a>"
      ]
    },
    {
      "cell_type": "code",
      "execution_count": 3,
      "metadata": {
        "colab": {
          "base_uri": "https://localhost:8080/"
        },
        "id": "MTbESLLFG26l",
        "outputId": "1bb19cac-4d69-4325-b761-73cdada88725"
      },
      "outputs": [
        {
          "output_type": "stream",
          "name": "stdout",
          "text": [
            "Requirement already satisfied: kagglehub in /usr/local/lib/python3.11/dist-packages (0.3.10)\n",
            "Requirement already satisfied: polars in /usr/local/lib/python3.11/dist-packages (1.14.0)\n",
            "Requirement already satisfied: pandas in /usr/local/lib/python3.11/dist-packages (2.2.2)\n",
            "Requirement already satisfied: scikit-learn in /usr/local/lib/python3.11/dist-packages (1.6.1)\n",
            "Requirement already satisfied: numpy in /usr/local/lib/python3.11/dist-packages (1.26.4)\n",
            "\u001b[31mERROR: Could not find a version that satisfies the requirement time (from versions: none)\u001b[0m\u001b[31m\n",
            "\u001b[0m\u001b[31mERROR: No matching distribution found for time\u001b[0m\u001b[31m\n",
            "\u001b[0mDownloading from https://www.kaggle.com/api/v1/datasets/download/jainilcoder/online-payment-fraud-detection?dataset_version_number=1...\n"
          ]
        },
        {
          "output_type": "stream",
          "name": "stderr",
          "text": [
            "100%|██████████| 178M/178M [00:01<00:00, 109MB/s]"
          ]
        },
        {
          "output_type": "stream",
          "name": "stdout",
          "text": [
            "Extracting files...\n"
          ]
        },
        {
          "output_type": "stream",
          "name": "stderr",
          "text": [
            "\n"
          ]
        },
        {
          "output_type": "stream",
          "name": "stdout",
          "text": [
            "Path para os arquivos: /root/.cache/kagglehub/datasets/jainilcoder/online-payment-fraud-detection/versions/1\n"
          ]
        }
      ],
      "source": [
        "# Instalar dependências\n",
        "!pip install kagglehub polars pandas scikit-learn numpy time\n",
        "\n",
        "# Importar as bibliotecas necessárias\n",
        "import kagglehub\n",
        "import pandas as pd\n",
        "import polars as pl\n",
        "import time\n",
        "\n",
        "# Baixando o dataset do Kaggle\n",
        "dataset_path = kagglehub.dataset_download(\"jainilcoder/online-payment-fraud-detection\")\n",
        "\n",
        "print(\"Path para os arquivos:\", dataset_path)"
      ]
    },
    {
      "cell_type": "code",
      "source": [
        "import os\n",
        "print(\"Arquivos no dataset:\", os.listdir(dataset_path))"
      ],
      "metadata": {
        "colab": {
          "base_uri": "https://localhost:8080/"
        },
        "id": "aWOnlBUVxgxf",
        "outputId": "b18a3eec-7aee-4869-fe4d-30c9ea57af41"
      },
      "execution_count": 4,
      "outputs": [
        {
          "output_type": "stream",
          "name": "stdout",
          "text": [
            "Arquivos no dataset: ['onlinefraud.csv']\n"
          ]
        }
      ]
    },
    {
      "cell_type": "code",
      "source": [
        "file_path = f\"{dataset_path}/onlinefraud.csv\"\n",
        "\n",
        "# Carregando com Pandas\n",
        "start_time = time.time()\n",
        "df_pandas = pd.read_csv(file_path)\n",
        "tempo_pandas = time.time() - start_time\n",
        "\n",
        "# Carregando com Polars\n",
        "start_time = time.time()\n",
        "df_polars = pl.read_csv(file_path)\n",
        "tempo_polars = time.time() - start_time\n",
        "\n",
        "# Exibindo os tempos de carregamento\n",
        "print(f\"Tempo de carregamento - Pandas: {tempo_pandas:.4f}s | Polars: {tempo_polars:.4f}s\")\n"
      ],
      "metadata": {
        "colab": {
          "base_uri": "https://localhost:8080/"
        },
        "id": "sOrRZC6Ixltr",
        "outputId": "53343ac4-db5a-4007-d44d-939316567892"
      },
      "execution_count": 5,
      "outputs": [
        {
          "output_type": "stream",
          "name": "stdout",
          "text": [
            "Tempo de carregamento - Pandas: 26.1809s | Polars: 3.2676s\n"
          ]
        }
      ]
    },
    {
      "cell_type": "code",
      "source": [
        "# Verificando as primeiras linhas com Pandas\n",
        "print(df_pandas.head())\n",
        "\n",
        "# Verificando as primeiras linhas com Polars\n",
        "print(df_polars.head())\n"
      ],
      "metadata": {
        "colab": {
          "base_uri": "https://localhost:8080/"
        },
        "id": "n708GBOg3c0X",
        "outputId": "31f940aa-e493-4621-c5ae-05b1cd58ed87"
      },
      "execution_count": 6,
      "outputs": [
        {
          "output_type": "stream",
          "name": "stdout",
          "text": [
            "   step      type    amount     nameOrig  oldbalanceOrg  newbalanceOrig  \\\n",
            "0     1   PAYMENT   9839.64  C1231006815       170136.0       160296.36   \n",
            "1     1   PAYMENT   1864.28  C1666544295        21249.0        19384.72   \n",
            "2     1  TRANSFER    181.00  C1305486145          181.0            0.00   \n",
            "3     1  CASH_OUT    181.00   C840083671          181.0            0.00   \n",
            "4     1   PAYMENT  11668.14  C2048537720        41554.0        29885.86   \n",
            "\n",
            "      nameDest  oldbalanceDest  newbalanceDest  isFraud  isFlaggedFraud  \n",
            "0  M1979787155             0.0             0.0        0               0  \n",
            "1  M2044282225             0.0             0.0        0               0  \n",
            "2   C553264065             0.0             0.0        1               0  \n",
            "3    C38997010         21182.0             0.0        1               0  \n",
            "4  M1230701703             0.0             0.0        0               0  \n",
            "shape: (5, 11)\n",
            "┌──────┬──────────┬──────────┬─────────────┬───┬─────────────┬─────────────┬─────────┬─────────────┐\n",
            "│ step ┆ type     ┆ amount   ┆ nameOrig    ┆ … ┆ oldbalanceD ┆ newbalanceD ┆ isFraud ┆ isFlaggedFr │\n",
            "│ ---  ┆ ---      ┆ ---      ┆ ---         ┆   ┆ est         ┆ est         ┆ ---     ┆ aud         │\n",
            "│ i64  ┆ str      ┆ f64      ┆ str         ┆   ┆ ---         ┆ ---         ┆ i64     ┆ ---         │\n",
            "│      ┆          ┆          ┆             ┆   ┆ f64         ┆ f64         ┆         ┆ i64         │\n",
            "╞══════╪══════════╪══════════╪═════════════╪═══╪═════════════╪═════════════╪═════════╪═════════════╡\n",
            "│ 1    ┆ PAYMENT  ┆ 9839.64  ┆ C1231006815 ┆ … ┆ 0.0         ┆ 0.0         ┆ 0       ┆ 0           │\n",
            "│ 1    ┆ PAYMENT  ┆ 1864.28  ┆ C1666544295 ┆ … ┆ 0.0         ┆ 0.0         ┆ 0       ┆ 0           │\n",
            "│ 1    ┆ TRANSFER ┆ 181.0    ┆ C1305486145 ┆ … ┆ 0.0         ┆ 0.0         ┆ 1       ┆ 0           │\n",
            "│ 1    ┆ CASH_OUT ┆ 181.0    ┆ C840083671  ┆ … ┆ 21182.0     ┆ 0.0         ┆ 1       ┆ 0           │\n",
            "│ 1    ┆ PAYMENT  ┆ 11668.14 ┆ C2048537720 ┆ … ┆ 0.0         ┆ 0.0         ┆ 0       ┆ 0           │\n",
            "└──────┴──────────┴──────────┴─────────────┴───┴─────────────┴─────────────┴─────────┴─────────────┘\n"
          ]
        }
      ]
    },
    {
      "cell_type": "code",
      "source": [
        "# Número de linhas e colunas\n",
        "print(f\"Dimensão dos dados - Pandas: {df_pandas.shape}\")\n",
        "print(f\"Dimensão dos dados - Polars: {df_polars.shape}\")\n",
        "\n",
        "# Verificando as colunas disponíveis\n",
        "print(\"Colunas no dataset:\", df_pandas.columns)\n"
      ],
      "metadata": {
        "colab": {
          "base_uri": "https://localhost:8080/"
        },
        "id": "D6-VwF_l3qo8",
        "outputId": "d70e04db-ac0b-48e1-fc15-ec97fd885838"
      },
      "execution_count": 7,
      "outputs": [
        {
          "output_type": "stream",
          "name": "stdout",
          "text": [
            "Dimensão dos dados - Pandas: (6362620, 11)\n",
            "Dimensão dos dados - Polars: (6362620, 11)\n",
            "Colunas no dataset: Index(['step', 'type', 'amount', 'nameOrig', 'oldbalanceOrg', 'newbalanceOrig',\n",
            "       'nameDest', 'oldbalanceDest', 'newbalanceDest', 'isFraud',\n",
            "       'isFlaggedFraud'],\n",
            "      dtype='object')\n"
          ]
        }
      ]
    },
    {
      "cell_type": "code",
      "source": [
        "# Verificando valores nulos com Pandas\n",
        "print(\"Valores nulos no dataset:\")\n",
        "print(df_pandas.isnull().sum())\n",
        "\n",
        "# Fazendo o mesmo com Polars\n",
        "print(\"Valores nulos com Polars:\")\n",
        "print(df_polars.null_count())"
      ],
      "metadata": {
        "colab": {
          "base_uri": "https://localhost:8080/"
        },
        "id": "XpUrGsTa4HPC",
        "outputId": "dfeb3ac5-284f-4956-e725-ebb7c8ec791b"
      },
      "execution_count": 8,
      "outputs": [
        {
          "output_type": "stream",
          "name": "stdout",
          "text": [
            "Valores nulos no dataset:\n",
            "step              0\n",
            "type              0\n",
            "amount            0\n",
            "nameOrig          0\n",
            "oldbalanceOrg     0\n",
            "newbalanceOrig    0\n",
            "nameDest          0\n",
            "oldbalanceDest    0\n",
            "newbalanceDest    0\n",
            "isFraud           0\n",
            "isFlaggedFraud    0\n",
            "dtype: int64\n",
            "Valores nulos com Polars:\n",
            "shape: (1, 11)\n",
            "┌──────┬──────┬────────┬──────────┬───┬────────────────┬────────────────┬─────────┬────────────────┐\n",
            "│ step ┆ type ┆ amount ┆ nameOrig ┆ … ┆ oldbalanceDest ┆ newbalanceDest ┆ isFraud ┆ isFlaggedFraud │\n",
            "│ ---  ┆ ---  ┆ ---    ┆ ---      ┆   ┆ ---            ┆ ---            ┆ ---     ┆ ---            │\n",
            "│ u32  ┆ u32  ┆ u32    ┆ u32      ┆   ┆ u32            ┆ u32            ┆ u32     ┆ u32            │\n",
            "╞══════╪══════╪════════╪══════════╪═══╪════════════════╪════════════════╪═════════╪════════════════╡\n",
            "│ 0    ┆ 0    ┆ 0      ┆ 0        ┆ … ┆ 0              ┆ 0              ┆ 0       ┆ 0              │\n",
            "└──────┴──────┴────────┴──────────┴───┴────────────────┴────────────────┴─────────┴────────────────┘\n"
          ]
        }
      ]
    },
    {
      "cell_type": "code",
      "source": [
        "# Removendo duplicatas no Pandas\n",
        "df_pandas = df_pandas.drop_duplicates()\n",
        "\n",
        "# Removendo duplicatas no Polars\n",
        "df_polars = df_polars.unique()"
      ],
      "metadata": {
        "id": "TZRn6zBxIUzL"
      },
      "execution_count": 9,
      "outputs": []
    },
    {
      "cell_type": "code",
      "source": [
        "print(df_polars.schema)  # Confirma os tipos das colunas\n",
        "print(df_polars.head(5))  # Visualiza os primeiros valores\n"
      ],
      "metadata": {
        "id": "gtdR9NlO58sh",
        "outputId": "bf12f67d-76f9-438e-dd02-781bcc258802",
        "colab": {
          "base_uri": "https://localhost:8080/"
        }
      },
      "execution_count": 10,
      "outputs": [
        {
          "output_type": "stream",
          "name": "stdout",
          "text": [
            "Schema([('step', Int64), ('type', String), ('amount', Float64), ('nameOrig', String), ('oldbalanceOrg', Float64), ('newbalanceOrig', Float64), ('nameDest', String), ('oldbalanceDest', Float64), ('newbalanceDest', Float64), ('isFraud', Int64), ('isFlaggedFraud', Int64)])\n",
            "shape: (5, 11)\n",
            "┌──────┬──────────┬───────────┬─────────────┬───┬─────────────┬─────────────┬─────────┬────────────┐\n",
            "│ step ┆ type     ┆ amount    ┆ nameOrig    ┆ … ┆ oldbalanceD ┆ newbalanceD ┆ isFraud ┆ isFlaggedF │\n",
            "│ ---  ┆ ---      ┆ ---       ┆ ---         ┆   ┆ est         ┆ est         ┆ ---     ┆ raud       │\n",
            "│ i64  ┆ str      ┆ f64       ┆ str         ┆   ┆ ---         ┆ ---         ┆ i64     ┆ ---        │\n",
            "│      ┆          ┆           ┆             ┆   ┆ f64         ┆ f64         ┆         ┆ i64        │\n",
            "╞══════╪══════════╪═══════════╪═════════════╪═══╪═════════════╪═════════════╪═════════╪════════════╡\n",
            "│ 210  ┆ CASH_OUT ┆ 625288.73 ┆ C908224299  ┆ … ┆ 1.6417e6    ┆ 2.2669e6    ┆ 0       ┆ 0          │\n",
            "│ 258  ┆ PAYMENT  ┆ 9722.35   ┆ C870667413  ┆ … ┆ 0.0         ┆ 0.0         ┆ 0       ┆ 0          │\n",
            "│ 33   ┆ CASH_OUT ┆ 337195.48 ┆ C1211588980 ┆ … ┆ 890421.87   ┆ 1.2276e6    ┆ 0       ┆ 0          │\n",
            "│ 229  ┆ PAYMENT  ┆ 17378.91  ┆ C1027613320 ┆ … ┆ 0.0         ┆ 0.0         ┆ 0       ┆ 0          │\n",
            "│ 276  ┆ CASH_OUT ┆ 163396.38 ┆ C1923261330 ┆ … ┆ 77388.03    ┆ 240784.42   ┆ 0       ┆ 0          │\n",
            "└──────┴──────────┴───────────┴─────────────┴───┴─────────────┴─────────────┴─────────┴────────────┘\n"
          ]
        }
      ]
    },
    {
      "cell_type": "code",
      "source": [
        "import pandas as pd\n",
        "\n",
        "# Garantindo que 'amount' está no formato float\n",
        "df_pandas[\"amount\"] = df_pandas[\"amount\"].astype(float)\n",
        "\n",
        "# O 'step' representa um número de horas passadas. Podemos criar uma referência temporal\n",
        "base_date = pd.Timestamp(\"2023-01-01\")  # Escolhendo um ponto de partida fictício\n",
        "df_pandas[\"step\"] = base_date + pd.to_timedelta(df_pandas[\"step\"], unit=\"h\")\n",
        "\n",
        "# Convertendo colunas categóricas para tipo \"category\" (mais eficiente para grandes datasets)\n",
        "df_pandas[\"type\"] = df_pandas[\"type\"].astype(\"category\")\n",
        "df_pandas[\"isFraud\"] = df_pandas[\"isFraud\"].astype(\"int8\")  # Reduzindo consumo de memória\n"
      ],
      "metadata": {
        "id": "ffmOI6RR50JD"
      },
      "execution_count": 11,
      "outputs": []
    },
    {
      "cell_type": "code",
      "source": [
        "import polars as pl\n",
        "\n",
        "# Aplicando conversões no Polars\n",
        "df_polars = df_polars.with_columns([\n",
        "    pl.col(\"amount\").cast(pl.Float64),  # Garantindo que 'amount' é float\n",
        "    (pl.lit(\"2023-01-01\").str.strptime(pl.Date, \"%Y-%m-%d\") + pl.duration(hours=pl.col(\"step\"))).alias(\"timestamp\"),  # Criando um timestamp\n",
        "    pl.col(\"step\").cast(pl.Int64),  # Mantendo como inteiro para representar horas\n",
        "    pl.col(\"type\").cast(pl.Categorical),  # Transformando 'type' em categórico para otimização\n",
        "    pl.col(\"isFraud\").cast(pl.Int8)  # Reduzindo consumo de memória\n",
        "])\n"
      ],
      "metadata": {
        "id": "fm-ufz1BvKiZ"
      },
      "execution_count": 12,
      "outputs": []
    },
    {
      "cell_type": "code",
      "source": [
        "# Criando uma nova variável - Exemplo de feature engineering\n",
        "df_pandas[\"valor_suspeito\"] = df_pandas[\"amount\"] > df_pandas[\"amount\"].quantile(0.99)\n",
        "\n",
        "df_polars = df_polars.with_columns(\n",
        "    (pl.col(\"amount\") > df_polars[\"amount\"].quantile(0.99)).alias(\"valor_suspeito\")\n",
        ")\n"
      ],
      "metadata": {
        "id": "EKGFooUA4RBI"
      },
      "execution_count": 13,
      "outputs": []
    },
    {
      "cell_type": "code",
      "source": [
        "# Garantindo que 'step' seja um valor numérico e não datetime\n",
        "df_pandas[\"step\"] = df_pandas[\"step\"].astype(int)  # Convertendo para inteiro\n"
      ],
      "metadata": {
        "id": "NptcDrpGvuFM"
      },
      "execution_count": 15,
      "outputs": []
    },
    {
      "cell_type": "code",
      "source": [
        "from sklearn.model_selection import train_test_split\n",
        "from sklearn.tree import DecisionTreeClassifier\n",
        "from sklearn.metrics import accuracy_score, classification_report\n",
        "\n",
        "# Garantindo que 'step' seja numérico\n",
        "df_pandas[\"step\"] = df_pandas[\"step\"].astype(int)\n",
        "\n",
        "# Definindo as features e a variável-alvo\n",
        "features = [\"step\", \"amount\", \"oldbalanceOrg\", \"newbalanceOrig\"]\n",
        "target = \"isFraud\"\n",
        "\n",
        "# Dividindo os dados em treino e teste\n",
        "X_train, X_test, y_train, y_test = train_test_split(\n",
        "    df_pandas[features], df_pandas[target], test_size=0.2, random_state=42\n",
        ")\n",
        "\n",
        "# Criando e treinando o modelo de árvore de decisão\n",
        "modelo_sklearn = DecisionTreeClassifier(max_depth=5, random_state=42)\n",
        "modelo_sklearn.fit(X_train, y_train)\n",
        "\n",
        "# Fazendo previsões\n",
        "y_pred = modelo_sklearn.predict(X_test)\n",
        "\n",
        "# Avaliando o modelo\n",
        "print(\"Acurácia:\", accuracy_score(y_test, y_pred))\n",
        "print(\"Relatório de Classificação:\\n\", classification_report(y_test, y_pred))\n"
      ],
      "metadata": {
        "colab": {
          "base_uri": "https://localhost:8080/"
        },
        "id": "Lkif-cpl459U",
        "outputId": "f2354f4b-0334-486f-b86e-1093685a0456"
      },
      "execution_count": 16,
      "outputs": [
        {
          "output_type": "stream",
          "name": "stdout",
          "text": [
            "Acurácia: 0.9990986417544974\n",
            "Relatório de Classificação:\n",
            "               precision    recall  f1-score   support\n",
            "\n",
            "           0       1.00      1.00      1.00   1270904\n",
            "           1       0.74      0.45      0.56      1620\n",
            "\n",
            "    accuracy                           1.00   1272524\n",
            "   macro avg       0.87      0.72      0.78   1272524\n",
            "weighted avg       1.00      1.00      1.00   1272524\n",
            "\n"
          ]
        }
      ]
    },
    {
      "cell_type": "code",
      "source": [
        "import polars as pl\n",
        "\n",
        "def calcular_gini(df: pl.DataFrame, target: str) -> float:\n",
        "    \"\"\"Calcula a impureza de Gini de um conjunto de dados.\"\"\"\n",
        "\n",
        "    # Contando as ocorrências de cada classe\n",
        "    proporcoes = df[target].value_counts()\n",
        "\n",
        "    # Ajustando para acessar corretamente a contagem de classes\n",
        "    total = df.shape[0]\n",
        "    proporcoes = proporcoes.with_columns(\n",
        "        (pl.col(\"count\") / total).alias(\"proporcao\")  # Agora acessamos diretamente \"count\"\n",
        "    )\n",
        "\n",
        "    # Calculando o índice de Gini\n",
        "    gini = 1 - (proporcoes[\"proporcao\"] ** 2).sum()\n",
        "    return gini\n",
        "\n",
        "# Executando novamente\n",
        "gini_inicial = calcular_gini(df_polars, \"isFraud\")\n",
        "print(f\"Gini do dataset original: {gini_inicial:.4f}\")\n"
      ],
      "metadata": {
        "colab": {
          "base_uri": "https://localhost:8080/"
        },
        "id": "XCU4yiOfxLJo",
        "outputId": "2f43e32d-81e7-4939-9b7e-43ef12b5ee1b"
      },
      "execution_count": 22,
      "outputs": [
        {
          "output_type": "stream",
          "name": "stdout",
          "text": [
            "Gini do dataset original: 0.0026\n"
          ]
        }
      ]
    },
    {
      "cell_type": "code",
      "source": [
        "def encontrar_melhor_split(df: pl.DataFrame, target: str, feature: str, num_pontos: int = 10) -> tuple:\n",
        "    \"\"\"Encontra o melhor ponto de corte para uma feature baseada no critério de Gini.\"\"\"\n",
        "\n",
        "    # Obtendo valores únicos ordenados da feature para testar divisões\n",
        "    valores_unicos = df.select(pl.col(feature)).unique().sort(feature).to_series().to_list()\n",
        "\n",
        "    # Se houver muitos valores, selecionamos apenas alguns para otimizar o processo\n",
        "    if len(valores_unicos) > num_pontos:\n",
        "        valores_unicos = pl.Series(valores_unicos).sample(num_pontos, shuffle=True).sort().to_list()\n",
        "\n",
        "    # Testamos cada ponto de corte e encontramos aquele que gera menor Gini\n",
        "    melhor_gini = float(\"inf\")\n",
        "    melhor_ponto = None\n",
        "\n",
        "    for valor in valores_unicos:\n",
        "        gini_split = calcular_gini_split(df, target, feature, valor)\n",
        "        if gini_split < melhor_gini:\n",
        "            melhor_gini = gini_split\n",
        "            melhor_ponto = valor\n",
        "\n",
        "    return melhor_ponto, melhor_gini\n",
        "\n",
        "# Testando para uma feature\n",
        "melhor_ponto, melhor_gini = encontrar_melhor_split(df_polars, \"isFraud\", \"amount\")\n",
        "print(f\"Melhor ponto de corte para 'amount': {melhor_ponto}, com Gini {melhor_gini:.4f}\")\n"
      ],
      "metadata": {
        "colab": {
          "base_uri": "https://localhost:8080/"
        },
        "id": "P0-jo0jVAp-o",
        "outputId": "3cecc4e3-e7f2-4489-f531-21637045cf62"
      },
      "execution_count": 24,
      "outputs": [
        {
          "output_type": "stream",
          "name": "stdout",
          "text": [
            "Melhor ponto de corte para 'amount': 710240.67, com Gini 0.0026\n"
          ]
        }
      ]
    },
    {
      "cell_type": "code",
      "source": [
        "def dividir_dados(df: pl.DataFrame, feature: str, valor_corte: float) -> tuple:\n",
        "    \"\"\"Divide os dados em dois subconjuntos com base em uma feature e um valor de corte.\"\"\"\n",
        "    df_esquerda = df.filter(pl.col(feature) <= valor_corte)\n",
        "    df_direita = df.filter(pl.col(feature) > valor_corte)\n",
        "    return df_esquerda, df_direita\n",
        "\n",
        "# Dividindo os dados com base na melhor separação encontrada\n",
        "df_esquerda, df_direita = dividir_dados(df_polars, \"amount\", melhor_ponto)\n",
        "\n",
        "print(f\"Tamanho do grupo esquerdo: {df_esquerda.shape[0]}\")\n",
        "print(f\"Tamanho do grupo direito: {df_direita.shape[0]}\")"
      ],
      "metadata": {
        "colab": {
          "base_uri": "https://localhost:8080/"
        },
        "id": "g_n83xRmA7_2",
        "outputId": "cf92883c-e59c-4248-b9ab-df1135f8347c"
      },
      "execution_count": 25,
      "outputs": [
        {
          "output_type": "stream",
          "name": "stdout",
          "text": [
            "Tamanho do grupo esquerdo: 6163020\n",
            "Tamanho do grupo direito: 199600\n"
          ]
        }
      ]
    },
    {
      "cell_type": "code",
      "source": [
        "class NoArvore:\n",
        "    \"\"\"Classe representando um nó da árvore de decisão.\"\"\"\n",
        "    def __init__(self, feature=None, valor_corte=None, gini=None, esquerda=None, direita=None, resultado=None):\n",
        "        self.feature = feature\n",
        "        self.valor_corte = valor_corte\n",
        "        self.gini = gini\n",
        "        self.esquerda = esquerda\n",
        "        self.direita = direita\n",
        "        self.resultado = resultado  # Se for um nó folha, armazenamos a classe majoritária\n"
      ],
      "metadata": {
        "id": "HEpdZmW1BOeG"
      },
      "execution_count": 26,
      "outputs": []
    },
    {
      "cell_type": "code",
      "source": [
        "def construir_arvore(df: pl.DataFrame, target: str, profundidade=0, max_profundidade=5, min_amostras=500) -> NoArvore:\n",
        "    \"\"\"Função recursiva para construir a árvore de decisão.\"\"\"\n",
        "\n",
        "    # Calcula o Gini do nó atual\n",
        "    gini_atual = calcular_gini(df, target)\n",
        "\n",
        "    # Critérios de parada\n",
        "    if profundidade >= max_profundidade or df.shape[0] < min_amostras or gini_atual == 0:\n",
        "        resultado = df[target].mode()[0]  # Classe mais frequente no nó\n",
        "        return NoArvore(resultado=resultado)\n",
        "\n",
        "    # Encontra a melhor divisão\n",
        "    melhor_feature, melhor_ponto, melhor_gini = None, None, float(\"inf\")\n",
        "    for feature in [\"amount\", \"oldbalanceOrg\", \"newbalanceOrig\"]:  # Testamos algumas features\n",
        "        ponto, gini = encontrar_melhor_split(df, target, feature)\n",
        "        if gini < melhor_gini:\n",
        "            melhor_gini, melhor_ponto, melhor_feature = gini, ponto, feature\n",
        "\n",
        "    # Se não encontrou um bom split, retorna um nó folha\n",
        "    if melhor_feature is None:\n",
        "        resultado = df[target].mode()[0]\n",
        "        return NoArvore(resultado=resultado)\n",
        "\n",
        "    # Divide os dados\n",
        "    df_esquerda, df_direita = dividir_dados(df, melhor_feature, melhor_ponto)\n",
        "\n",
        "    # Chama recursivamente para criar os nós filhos\n",
        "    no_esquerda = construir_arvore(df_esquerda, target, profundidade + 1, max_profundidade, min_amostras)\n",
        "    no_direita = construir_arvore(df_direita, target, profundidade + 1, max_profundidade, min_amostras)\n",
        "\n",
        "    return NoArvore(feature=melhor_feature, valor_corte=melhor_ponto, gini=melhor_gini,\n",
        "                    esquerda=no_esquerda, direita=no_direita)\n"
      ],
      "metadata": {
        "id": "a4JuW8GdBOYy"
      },
      "execution_count": 27,
      "outputs": []
    },
    {
      "cell_type": "code",
      "source": [
        "# Criando a árvore de decisão com profundidade máxima de 5\n",
        "arvore_decisao = construir_arvore(df_polars, \"isFraud\", max_profundidade=5, min_amostras=500)\n",
        "\n",
        "print(\"Árvore construída com sucesso!\")\n"
      ],
      "metadata": {
        "colab": {
          "base_uri": "https://localhost:8080/"
        },
        "id": "4W2Z-3NfBOTA",
        "outputId": "527887e8-c465-4a82-9d9c-c82417e07287"
      },
      "execution_count": 28,
      "outputs": [
        {
          "output_type": "stream",
          "name": "stdout",
          "text": [
            "Árvore construída com sucesso!\n"
          ]
        }
      ]
    },
    {
      "cell_type": "code",
      "source": [
        "def exibir_arvore(no, nivel=0):\n",
        "    \"\"\"Imprime a árvore de decisão de forma estruturada.\"\"\"\n",
        "    if no is None:\n",
        "        return\n",
        "\n",
        "    prefixo = \"   \" * nivel  # Adiciona indentação para representar os níveis da árvore\n",
        "\n",
        "    # Se for um nó folha, imprime a classe\n",
        "    if no.resultado is not None:\n",
        "        print(f\"{prefixo}🌱 Classe: {no.resultado}\")\n",
        "    else:\n",
        "        print(f\"{prefixo}📌 Se {no.feature} <= {no.valor_corte:.2f}:\")\n",
        "\n",
        "        # Recursivamente exibe os nós filhos (esquerda e direita)\n",
        "        print(f\"{prefixo}├── Esquerda:\")\n",
        "        exibir_arvore(no.esquerda, nivel + 1)\n",
        "\n",
        "        print(f\"{prefixo}└── Direita:\")\n",
        "        exibir_arvore(no.direita, nivel + 1)\n",
        "\n",
        "# Exibindo a árvore gerada\n",
        "exibir_arvore(arvore_decisao)\n"
      ],
      "metadata": {
        "colab": {
          "base_uri": "https://localhost:8080/"
        },
        "id": "JNXz94vSA77Y",
        "outputId": "e6a5266d-a8b3-4eb7-e34b-5b09e01dc6ff"
      },
      "execution_count": 29,
      "outputs": [
        {
          "output_type": "stream",
          "name": "stdout",
          "text": [
            "📌 Se amount <= 568443.32:\n",
            "├── Esquerda:\n",
            "   📌 Se oldbalanceOrg <= 17186.81:\n",
            "   ├── Esquerda:\n",
            "      📌 Se amount <= 16611.76:\n",
            "      ├── Esquerda:\n",
            "         📌 Se oldbalanceOrg <= 671.10:\n",
            "         ├── Esquerda:\n",
            "            📌 Se amount <= 101.84:\n",
            "            ├── Esquerda:\n",
            "               🌱 Classe: 0\n",
            "            └── Direita:\n",
            "               🌱 Classe: 0\n",
            "         └── Direita:\n",
            "            📌 Se newbalanceOrig <= 605.42:\n",
            "            ├── Esquerda:\n",
            "               🌱 Classe: 0\n",
            "            └── Direita:\n",
            "               🌱 Classe: 0\n",
            "      └── Direita:\n",
            "         📌 Se amount <= 18291.55:\n",
            "         ├── Esquerda:\n",
            "            📌 Se oldbalanceOrg <= 13346.00:\n",
            "            ├── Esquerda:\n",
            "               🌱 Classe: 0\n",
            "            └── Direita:\n",
            "               🌱 Classe: 0\n",
            "         └── Direita:\n",
            "            📌 Se oldbalanceOrg <= 6843.40:\n",
            "            ├── Esquerda:\n",
            "               🌱 Classe: 0\n",
            "            └── Direita:\n",
            "               🌱 Classe: 0\n",
            "   └── Direita:\n",
            "      📌 Se newbalanceOrig <= 84478.06:\n",
            "      ├── Esquerda:\n",
            "         📌 Se oldbalanceOrg <= 265687.00:\n",
            "         ├── Esquerda:\n",
            "            📌 Se oldbalanceOrg <= 106407.90:\n",
            "            ├── Esquerda:\n",
            "               🌱 Classe: 0\n",
            "            └── Direita:\n",
            "               🌱 Classe: 0\n",
            "         └── Direita:\n",
            "            📌 Se newbalanceOrig <= 2749.32:\n",
            "            ├── Esquerda:\n",
            "               🌱 Classe: 0\n",
            "            └── Direita:\n",
            "               🌱 Classe: 0\n",
            "      └── Direita:\n",
            "         📌 Se amount <= 328405.41:\n",
            "         ├── Esquerda:\n",
            "            📌 Se newbalanceOrig <= 320388.58:\n",
            "            ├── Esquerda:\n",
            "               🌱 Classe: 0\n",
            "            └── Direita:\n",
            "               🌱 Classe: 0\n",
            "         └── Direita:\n",
            "            📌 Se amount <= 535015.67:\n",
            "            ├── Esquerda:\n",
            "               🌱 Classe: 0\n",
            "            └── Direita:\n",
            "               🌱 Classe: 0\n",
            "└── Direita:\n",
            "   📌 Se oldbalanceOrg <= 1653733.87:\n",
            "   ├── Esquerda:\n",
            "      📌 Se oldbalanceOrg <= 1321091.25:\n",
            "      ├── Esquerda:\n",
            "         📌 Se oldbalanceOrg <= 628697.26:\n",
            "         ├── Esquerda:\n",
            "            📌 Se oldbalanceOrg <= 342250.54:\n",
            "            ├── Esquerda:\n",
            "               🌱 Classe: 0\n",
            "            └── Direita:\n",
            "               🌱 Classe: 0\n",
            "         └── Direita:\n",
            "            📌 Se newbalanceOrig <= 34166.44:\n",
            "            ├── Esquerda:\n",
            "               🌱 Classe: 1\n",
            "            └── Direita:\n",
            "               🌱 Classe: 0\n",
            "      └── Direita:\n",
            "         📌 Se newbalanceOrig <= 650918.87:\n",
            "         ├── Esquerda:\n",
            "            🌱 Classe: 1\n",
            "         └── Direita:\n",
            "            🌱 Classe: 0\n",
            "   └── Direita:\n",
            "      📌 Se newbalanceOrig <= 2495796.82:\n",
            "      ├── Esquerda:\n",
            "         📌 Se newbalanceOrig <= 550926.88:\n",
            "         ├── Esquerda:\n",
            "            📌 Se newbalanceOrig <= 44651.69:\n",
            "            ├── Esquerda:\n",
            "               🌱 Classe: 1\n",
            "            └── Direita:\n",
            "               🌱 Classe: 0\n",
            "         └── Direita:\n",
            "            🌱 Classe: 0\n",
            "      └── Direita:\n",
            "         📌 Se amount <= 854694.53:\n",
            "         ├── Esquerda:\n",
            "            🌱 Classe: 0\n",
            "         └── Direita:\n",
            "            🌱 Classe: 0\n"
          ]
        }
      ]
    },
    {
      "cell_type": "code",
      "source": [
        "def prever(no, exemplo):\n",
        "    \"\"\"Percorre a árvore de decisão e retorna a previsão para um exemplo.\"\"\"\n",
        "    if no.resultado is not None:\n",
        "        return no.resultado  # Retorna a classe da folha\n",
        "\n",
        "    # Segue para a esquerda ou direita baseado no valor da feature\n",
        "    if exemplo[no.feature] <= no.valor_corte:\n",
        "        return prever(no.esquerda, exemplo)\n",
        "    else:\n",
        "        return prever(no.direita, exemplo)\n",
        "\n",
        "# Aplicando a previsão em todo o conjunto de teste\n",
        "y_pred_polars = X_test.apply(lambda x: prever(arvore_decisao, x.to_dict()), axis=1)\n",
        "\n",
        "# Avaliação do modelo manual\n",
        "print(\"📊 Performance da Árvore de Decisão Manual\")\n",
        "print(\"Acurácia:\", accuracy_score(y_test, y_pred_polars))\n",
        "print(\"Relatório de Classificação:\\n\", classification_report(y_test, y_pred_polars))\n"
      ],
      "metadata": {
        "colab": {
          "base_uri": "https://localhost:8080/"
        },
        "id": "IxzLdd8nDVbY",
        "outputId": "7c570c81-3e11-4672-9f6b-21a17b4f4f25"
      },
      "execution_count": 30,
      "outputs": [
        {
          "output_type": "stream",
          "name": "stdout",
          "text": [
            "📊 Performance da Árvore de Decisão Manual\n",
            "Acurácia: 0.999030273692284\n",
            "Relatório de Classificação:\n",
            "               precision    recall  f1-score   support\n",
            "\n",
            "           0       1.00      1.00      1.00   1270904\n",
            "           1       0.71      0.40      0.51      1620\n",
            "\n",
            "    accuracy                           1.00   1272524\n",
            "   macro avg       0.86      0.70      0.75   1272524\n",
            "weighted avg       1.00      1.00      1.00   1272524\n",
            "\n"
          ]
        }
      ]
    },
    {
      "cell_type": "code",
      "source": [
        "import time\n",
        "\n",
        "# Testando a velocidade da árvore manual\n",
        "start_time = time.time()\n",
        "y_pred_polars = X_test.apply(lambda x: prever(arvore_decisao, x.to_dict()), axis=1)\n",
        "tempo_manual = time.time() - start_time\n",
        "\n",
        "# Testando a velocidade do Scikit-Learn\n",
        "start_time = time.time()\n",
        "y_pred_sklearn = modelo_sklearn.predict(X_test)\n",
        "tempo_sklearn = time.time() - start_time\n",
        "\n",
        "print(f\"⏱ Tempo de inferência - Árvore Manual (Polars): {tempo_manual:.4f} segundos\")\n",
        "print(f\"⏱ Tempo de inferência - Scikit-Learn: {tempo_sklearn:.4f} segundos\")\n"
      ],
      "metadata": {
        "colab": {
          "base_uri": "https://localhost:8080/"
        },
        "id": "09oNvLuDDc8n",
        "outputId": "96d49719-5e60-493a-ae3d-927f635eb68b"
      },
      "execution_count": 31,
      "outputs": [
        {
          "output_type": "stream",
          "name": "stdout",
          "text": [
            "⏱ Tempo de inferência - Árvore Manual (Polars): 13.6634 segundos\n",
            "⏱ Tempo de inferência - Scikit-Learn: 0.0917 segundos\n"
          ]
        }
      ]
    }
  ]
}